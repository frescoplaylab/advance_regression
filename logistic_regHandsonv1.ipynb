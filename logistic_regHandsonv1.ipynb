{
 "cells": [
  {
   "cell_type": "markdown",
   "metadata": {},
   "source": [
    "Welcome to the first Hands On advance regression. In this exercise , you will try out basic classification using logistic regression that you have learnt in the course. We have created this Python Notebook with all the necessary things needed for completing this exercise. You have to write your code in between the are mentioned\n",
    "### Start Code\n",
    "Your Code here\n",
    "### End Code\n",
    "\n",
    "To run the code in each cell click on the cell and press **shift + enter** "
   ]
  },
  {
   "cell_type": "markdown",
   "metadata": {},
   "source": [
    "Run the code in the below cell to load the iris data from sklearn dataset\n",
    "- The features are the dimensions of flowers petals belonging to iris species\n",
    "- The target names are the species to which the flower belongs.They are mapped as 0,1 and 2 \n",
    "- In this excercise you will perform logistic regression predict the species of flow given the petal dimensions as features\n",
    "- to view the data by printing iris_X and iris_Y (Optional)"
   ]
  },
  {
   "cell_type": "code",
   "execution_count": 3,
   "metadata": {},
   "outputs": [
    {
     "name": "stdout",
     "output_type": "stream",
     "text": [
      "['sepal length (cm)', 'sepal width (cm)', 'petal length (cm)', 'petal width (cm)']\n",
      "['setosa' 'versicolor' 'virginica']\n"
     ]
    }
   ],
   "source": [
    "from sklearn import datasets\n",
    "iris = datasets.load_iris()\n",
    "iris_X = iris.data\n",
    "iris_y = iris.target\n",
    "print(iris.feature_names)\n",
    "print(iris.target_names)"
   ]
  },
  {
   "cell_type": "markdown",
   "metadata": {},
   "source": [
    "- import train_test_split function from sklearn.model_selection\n",
    "- split the data into train and test set with **test_size = 0.33** and **random_state = 101**"
   ]
  },
  {
   "cell_type": "code",
   "execution_count": 11,
   "metadata": {},
   "outputs": [
    {
     "data": {
      "text/plain": [
       "(100,)"
      ]
     },
     "execution_count": 11,
     "metadata": {},
     "output_type": "execute_result"
    }
   ],
   "source": [
    "###Start code\n",
    "\n",
    "X_train,X_test,y_train,y_test = \n",
    "###End code(approx 2 lines)"
   ]
  },
  {
   "cell_type": "markdown",
   "metadata": {},
   "source": [
    "- import LogisticRegression from sklearn\n",
    "- initialise logistic regression model and assign to variable 'model'\n",
    "- fit the model with train data(X_train and y_train)"
   ]
  },
  {
   "cell_type": "code",
   "execution_count": null,
   "metadata": {},
   "outputs": [],
   "source": [
    "###Start code\n",
    "\n",
    "model = \n",
    "#fit the model\n",
    "###End code(approx 3 lines)"
   ]
  },
  {
   "cell_type": "markdown",
   "metadata": {},
   "source": [
    "using the model predict the output of test data"
   ]
  },
  {
   "cell_type": "code",
   "execution_count": 17,
   "metadata": {
    "collapsed": true
   },
   "outputs": [],
   "source": [
    "###Start code\n",
    "y_pred = \n",
    "###End code(approx 1 line)"
   ]
  },
  {
   "cell_type": "markdown",
   "metadata": {},
   "source": [
    "- import classification_report from sklearn\n",
    "- pass y_test and y_pred to classification_report().\n",
    "- print the output of classification_report"
   ]
  },
  {
   "cell_type": "code",
   "execution_count": null,
   "metadata": {},
   "outputs": [],
   "source": [
    "###Start code here\n",
    "\n",
    "###End code(approx 2 to 3 lines)"
   ]
  },
  {
   "cell_type": "markdown",
   "metadata": {},
   "source": [
    "- from classification report record the values of precision and recall\n",
    "- assign the values of precision and recall to variable 'precision' and 'recall' in the below cell"
   ]
  },
  {
   "cell_type": "code",
   "execution_count": null,
   "metadata": {
    "collapsed": true
   },
   "outputs": [],
   "source": [
    "###Start code here\n",
    "precision =             \n",
    "recall =  \n",
    "###End code(approx 2 lines)\n",
    "with open(\"Output.txt\", \"w\") as text_file:\n",
    "  text_file.write(\"precision= %f\\n\" % precision)\n",
    "  text_file.write(\"recall= %f\" % recall)\n",
    "    "
   ]
  }
 ],
 "metadata": {
  "kernelspec": {
   "display_name": "Python 3",
   "language": "python",
   "name": "python3"
  },
  "language_info": {
   "codemirror_mode": {
    "name": "ipython",
    "version": 3
   },
   "file_extension": ".py",
   "mimetype": "text/x-python",
   "name": "python",
   "nbconvert_exporter": "python",
   "pygments_lexer": "ipython3",
   "version": "3.6.3"
  }
 },
 "nbformat": 4,
 "nbformat_minor": 2
}
